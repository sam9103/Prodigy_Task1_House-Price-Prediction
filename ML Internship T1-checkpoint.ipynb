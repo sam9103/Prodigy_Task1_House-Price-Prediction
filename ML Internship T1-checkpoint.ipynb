{
 "cells": [
  {
   "cell_type": "code",
   "execution_count": null,
   "id": "a57cc6ca",
   "metadata": {},
   "outputs": [],
   "source": [
    "import numpy as np\n",
    "import pandas as pd\n",
    "import matplotlib.pyplot as plt\n",
    "import seaborn as sns"
   ]
  },
  {
   "cell_type": "code",
   "execution_count": null,
   "id": "9ed06129",
   "metadata": {},
   "outputs": [],
   "source": [
    "df=pd.read_csv(\"House Price India.csv\")\n",
    "df.head()"
   ]
  },
  {
   "cell_type": "code",
   "execution_count": null,
   "id": "9ffa965f",
   "metadata": {},
   "outputs": [],
   "source": [
    "df.columns"
   ]
  },
  {
   "cell_type": "code",
   "execution_count": null,
   "id": "2689d1e4",
   "metadata": {},
   "outputs": [],
   "source": [
    "df.shape"
   ]
  },
  {
   "cell_type": "code",
   "execution_count": null,
   "id": "819318fa",
   "metadata": {},
   "outputs": [],
   "source": [
    "df.info()"
   ]
  },
  {
   "cell_type": "code",
   "execution_count": null,
   "id": "a8811520",
   "metadata": {},
   "outputs": [],
   "source": [
    "\n",
    "new_df = df[['number of bedrooms', 'number of bathrooms', 'living area', 'Price','lot area']]\n"
   ]
  },
  {
   "cell_type": "code",
   "execution_count": null,
   "id": "82cf7bad",
   "metadata": {},
   "outputs": [],
   "source": [
    "new_df.head()"
   ]
  },
  {
   "cell_type": "code",
   "execution_count": null,
   "id": "01087afc",
   "metadata": {},
   "outputs": [],
   "source": [
    "new_df.isnull().sum()"
   ]
  },
  {
   "cell_type": "code",
   "execution_count": null,
   "id": "7ccf3d69",
   "metadata": {},
   "outputs": [],
   "source": [
    "new_df['number of bedrooms'].value_counts()"
   ]
  },
  {
   "cell_type": "code",
   "execution_count": null,
   "id": "6cab597d",
   "metadata": {},
   "outputs": [],
   "source": [
    "\n",
    "new_df = new_df[new_df['number of bedrooms'] != 33]\n",
    "\n"
   ]
  },
  {
   "cell_type": "code",
   "execution_count": null,
   "id": "2eb646c8",
   "metadata": {},
   "outputs": [],
   "source": [
    "new_df['number of bathrooms'].value_counts()"
   ]
  },
  {
   "cell_type": "code",
   "execution_count": null,
   "id": "cb7e0348",
   "metadata": {},
   "outputs": [],
   "source": [
    "sns.barplot(x=new_df['number of bedrooms'],y=new_df['Price'])"
   ]
  },
  {
   "cell_type": "code",
   "execution_count": null,
   "id": "d24a21c2",
   "metadata": {},
   "outputs": [],
   "source": [
    "sns.barplot(x=new_df['number of bathrooms'],y=new_df['Price'])\n",
    "plt.xticks(rotation=90)\n",
    "plt.show()"
   ]
  },
  {
   "cell_type": "code",
   "execution_count": null,
   "id": "677f70f0",
   "metadata": {},
   "outputs": [],
   "source": [
    "sns.regplot(x=new_df['living area'],y=new_df['Price'])\n",
    "plt.ylim(0,)"
   ]
  },
  {
   "cell_type": "code",
   "execution_count": null,
   "id": "6b9e6e7f",
   "metadata": {},
   "outputs": [],
   "source": [
    "new_df.describe()"
   ]
  },
  {
   "cell_type": "code",
   "execution_count": null,
   "id": "d0881802",
   "metadata": {},
   "outputs": [],
   "source": [
    "new_df.sample(10)"
   ]
  },
  {
   "cell_type": "code",
   "execution_count": null,
   "id": "f2eeca8d",
   "metadata": {
    "scrolled": true
   },
   "outputs": [],
   "source": [
    "nan_count_per_column = new_df.isnull().sum()\n",
    "print(\"\\nCount of NaN values in each column:\")\n",
    "print(nan_count_per_column)"
   ]
  },
  {
   "cell_type": "markdown",
   "id": "0c440b15",
   "metadata": {},
   "source": [
    "## Model Developement"
   ]
  },
  {
   "cell_type": "code",
   "execution_count": null,
   "id": "27c214ec",
   "metadata": {},
   "outputs": [],
   "source": [
    "new_df.shape"
   ]
  },
  {
   "cell_type": "code",
   "execution_count": null,
   "id": "48acf279",
   "metadata": {},
   "outputs": [],
   "source": [
    "X=new_df[['living area','number of bedrooms','number of bathrooms','lot area']]"
   ]
  },
  {
   "cell_type": "code",
   "execution_count": null,
   "id": "273d2f27",
   "metadata": {},
   "outputs": [],
   "source": [
    "X.shape"
   ]
  },
  {
   "cell_type": "code",
   "execution_count": null,
   "id": "13b1ab1d",
   "metadata": {},
   "outputs": [],
   "source": [
    "y=new_df['Price']"
   ]
  },
  {
   "cell_type": "code",
   "execution_count": null,
   "id": "5c5a3a64",
   "metadata": {},
   "outputs": [],
   "source": [
    "y.shape"
   ]
  },
  {
   "cell_type": "code",
   "execution_count": null,
   "id": "2d4c744c",
   "metadata": {},
   "outputs": [],
   "source": [
    "from sklearn.model_selection import train_test_split, GridSearchCV, cross_val_score\n",
    "from sklearn.preprocessing import StandardScaler, PolynomialFeatures,OneHotEncoder\n",
    "from sklearn.linear_model import LinearRegression\n",
    "from sklearn.pipeline import Pipeline\n",
    "from sklearn.compose import ColumnTransformer\n",
    "from sklearn.metrics import r2_score\n"
   ]
  },
  {
   "cell_type": "code",
   "execution_count": null,
   "id": "ff70ccc4",
   "metadata": {},
   "outputs": [],
   "source": [
    "X_train, X_test, y_train, y_test = train_test_split(X, y, test_size=0.2, random_state=42)"
   ]
  },
  {
   "cell_type": "code",
   "execution_count": null,
   "id": "137cabdd",
   "metadata": {},
   "outputs": [],
   "source": [
    "pipeline = Pipeline(steps=[\n",
    "    ('scaler', StandardScaler()),  \n",
    "    ('poly', PolynomialFeatures(degree=2, include_bias=False)), \n",
    "    ('regressor', LinearRegression())  \n",
    "])\n"
   ]
  },
  {
   "cell_type": "code",
   "execution_count": null,
   "id": "47ff4dbd",
   "metadata": {},
   "outputs": [],
   "source": [
    "pipeline.fit(X_train, y_train)"
   ]
  },
  {
   "cell_type": "code",
   "execution_count": null,
   "id": "5c22d01e",
   "metadata": {},
   "outputs": [],
   "source": [
    "y_pred = pipeline.predict(X_test)"
   ]
  },
  {
   "cell_type": "code",
   "execution_count": null,
   "id": "3584a0b1",
   "metadata": {},
   "outputs": [],
   "source": [
    "r2 = r2_score(y_test, y_pred)\n",
    "print(f\"R² score for Polynomial Regression with Standard Scaling: {r2}\")"
   ]
  },
  {
   "cell_type": "code",
   "execution_count": null,
   "id": "7d707bfe",
   "metadata": {},
   "outputs": [],
   "source": [
    "def predict_house_price():\n",
    "    features = ['living area', 'number of bedrooms', 'number of bathrooms', 'lot area']\n",
    "    inputs = [float(input(f\"Enter {feature}: \")) for feature in features]\n",
    "    predicted_price = pipeline.predict([inputs])\n",
    "    print(f\"The predicted price of the house is:Rs {predicted_price[0]:,.2f}\")\n",
    "\n",
    "predict_house_price()"
   ]
  },
  {
   "cell_type": "code",
   "execution_count": null,
   "id": "f7b445d5",
   "metadata": {},
   "outputs": [],
   "source": []
  }
 ],
 "metadata": {
  "kernelspec": {
   "display_name": "Python 3 (ipykernel)",
   "language": "python",
   "name": "python3"
  },
  "language_info": {
   "codemirror_mode": {
    "name": "ipython",
    "version": 3
   },
   "file_extension": ".py",
   "mimetype": "text/x-python",
   "name": "python",
   "nbconvert_exporter": "python",
   "pygments_lexer": "ipython3",
   "version": "3.11.5"
  }
 },
 "nbformat": 4,
 "nbformat_minor": 5
}
